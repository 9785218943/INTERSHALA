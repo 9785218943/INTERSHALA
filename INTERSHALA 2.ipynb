{
 "cells": [
  {
   "cell_type": "code",
   "execution_count": null,
   "id": "071cf3a2",
   "metadata": {},
   "outputs": [],
   "source": []
  },
  {
   "cell_type": "code",
   "execution_count": 2,
   "id": "3dc53026",
   "metadata": {},
   "outputs": [
    {
     "name": "stdout",
     "output_type": "stream",
     "text": [
      "The total revenue is: 1400\n"
     ]
    }
   ],
   "source": [
    "import pandas as pd\n",
    "\n",
    "# Sample dataset\n",
    "data = {\n",
    "    'Transaction_ID': [1, 2, 3],\n",
    "    'Date': ['2023-08-01', '2023-08-02', '2023-08-03'],\n",
    "    'Product': ['Product A', 'Product B', 'Product C'],\n",
    "    'Quantity': [5, 10, 2],\n",
    "    'Price_per_Unit': [100, 50, 200]\n",
    "}\n",
    "\n",
    "# Create a pandas DataFrame\n",
    "df = pd.DataFrame(data)\n",
    "\n",
    "# Define the function to calculate total revenue\n",
    "def calculate_total_revenue(df):\n",
    "    df['Total_Price'] = df['Quantity'] * df['Price_per_Unit']\n",
    "    total_revenue = df['Total_Price'].sum()\n",
    "    return total_revenue\n",
    "\n",
    "# Calculate the total revenue\n",
    "total_revenue = calculate_total_revenue(df)\n",
    "print(f\"The total revenue is: {total_revenue}\")\n",
    "\n"
   ]
  },
  {
   "cell_type": "code",
   "execution_count": null,
   "id": "19426b24",
   "metadata": {},
   "outputs": [],
   "source": []
  },
  {
   "cell_type": "code",
   "execution_count": null,
   "id": "d5b163ca",
   "metadata": {},
   "outputs": [],
   "source": []
  }
 ],
 "metadata": {
  "kernelspec": {
   "display_name": "Python 3 (ipykernel)",
   "language": "python",
   "name": "python3"
  },
  "language_info": {
   "codemirror_mode": {
    "name": "ipython",
    "version": 3
   },
   "file_extension": ".py",
   "mimetype": "text/x-python",
   "name": "python",
   "nbconvert_exporter": "python",
   "pygments_lexer": "ipython3",
   "version": "3.11.3"
  }
 },
 "nbformat": 4,
 "nbformat_minor": 5
}
